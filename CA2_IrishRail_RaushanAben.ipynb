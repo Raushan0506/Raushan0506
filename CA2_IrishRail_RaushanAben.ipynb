{
 "cells": [
  {
   "cell_type": "markdown",
   "id": "644ff862-03da-4b73-802c-8b816c998874",
   "metadata": {},
   "source": [
    "#Passenger journeys by Rail"
   ]
  },
  {
   "cell_type": "markdown",
   "id": "c72239bd-44d5-4041-b4ef-6cbc93389fe3",
   "metadata": {},
   "source": [
    "import pandas as pd "
   ]
  },
  {
   "cell_type": "code",
   "execution_count": 15,
   "id": "8d87692a-6d05-42b5-ae27-a952059fcf17",
   "metadata": {},
   "outputs": [],
   "source": [
    "df=pd.read_csv(\"TCA01.20241130T151116.csv\") "
   ]
  },
  {
   "cell_type": "code",
   "execution_count": 21,
   "id": "490650dd-3684-4ff6-aa9d-1381609e10f4",
   "metadata": {},
   "outputs": [
    {
     "name": "stdout",
     "output_type": "stream",
     "text": [
      "<class 'pandas.core.frame.DataFrame'>\n",
      "RangeIndex: 35 entries, 0 to 34\n",
      "Data columns (total 5 columns):\n",
      " #   Column           Non-Null Count  Dtype \n",
      "---  ------           --------------  ----- \n",
      " 0   STATISTIC Label  35 non-null     object\n",
      " 1   Year             35 non-null     int64 \n",
      " 2   Type of Journey  35 non-null     object\n",
      " 3   UNIT             35 non-null     object\n",
      " 4   VALUE            35 non-null     int64 \n",
      "dtypes: int64(2), object(3)\n",
      "memory usage: 1.5+ KB\n",
      "None\n"
     ]
    }
   ],
   "source": [
    "print(df.info()) # this function provides information about the data type, number of non-null entries\n",
    "# as we can see in this our Data set most various are performed in categorical type. And only two columns present numerical info. "
   ]
  },
  {
   "cell_type": "code",
   "execution_count": 25,
   "id": "41289600-5e27-4fb8-a6a0-6af8c9d94964",
   "metadata": {},
   "outputs": [
    {
     "data": {
      "text/plain": [
       "(35, 5)"
      ]
     },
     "execution_count": 25,
     "metadata": {},
     "output_type": "execute_result"
    }
   ],
   "source": [
    "df.shape # in order to understand the size of the DataFrame "
   ]
  },
  {
   "cell_type": "code",
   "execution_count": 27,
   "id": "7fe1aa14-f532-4fc7-9713-311263b64261",
   "metadata": {},
   "outputs": [
    {
     "data": {
      "text/plain": [
       "<bound method DataFrame.mean of                           STATISTIC Label  Year              Type of Journey  \\\n",
       "0   Passenger Journeys by Rail (Thousand)  2017                 All journeys   \n",
       "1   Passenger Journeys by Rail (Thousand)  2017  Mainline and other services   \n",
       "2   Passenger Journeys by Rail (Thousand)  2017     Dublin suburban services   \n",
       "3   Passenger Journeys by Rail (Thousand)  2017                         DART   \n",
       "4   Passenger Journeys by Rail (Thousand)  2017       International journeys   \n",
       "5   Passenger Journeys by Rail (Thousand)  2018                 All journeys   \n",
       "6   Passenger Journeys by Rail (Thousand)  2018  Mainline and other services   \n",
       "7   Passenger Journeys by Rail (Thousand)  2018     Dublin suburban services   \n",
       "8   Passenger Journeys by Rail (Thousand)  2018                         DART   \n",
       "9   Passenger Journeys by Rail (Thousand)  2018       International journeys   \n",
       "10  Passenger Journeys by Rail (Thousand)  2019                 All journeys   \n",
       "11  Passenger Journeys by Rail (Thousand)  2019  Mainline and other services   \n",
       "12  Passenger Journeys by Rail (Thousand)  2019     Dublin suburban services   \n",
       "13  Passenger Journeys by Rail (Thousand)  2019                         DART   \n",
       "14  Passenger Journeys by Rail (Thousand)  2019       International journeys   \n",
       "15  Passenger Journeys by Rail (Thousand)  2020                 All journeys   \n",
       "16  Passenger Journeys by Rail (Thousand)  2020  Mainline and other services   \n",
       "17  Passenger Journeys by Rail (Thousand)  2020     Dublin suburban services   \n",
       "18  Passenger Journeys by Rail (Thousand)  2020                         DART   \n",
       "19  Passenger Journeys by Rail (Thousand)  2020       International journeys   \n",
       "20  Passenger Journeys by Rail (Thousand)  2021                 All journeys   \n",
       "21  Passenger Journeys by Rail (Thousand)  2021  Mainline and other services   \n",
       "22  Passenger Journeys by Rail (Thousand)  2021     Dublin suburban services   \n",
       "23  Passenger Journeys by Rail (Thousand)  2021                         DART   \n",
       "24  Passenger Journeys by Rail (Thousand)  2021       International journeys   \n",
       "25  Passenger Journeys by Rail (Thousand)  2022                 All journeys   \n",
       "26  Passenger Journeys by Rail (Thousand)  2022  Mainline and other services   \n",
       "27  Passenger Journeys by Rail (Thousand)  2022     Dublin suburban services   \n",
       "28  Passenger Journeys by Rail (Thousand)  2022                         DART   \n",
       "29  Passenger Journeys by Rail (Thousand)  2022       International journeys   \n",
       "30  Passenger Journeys by Rail (Thousand)  2023                 All journeys   \n",
       "31  Passenger Journeys by Rail (Thousand)  2023  Mainline and other services   \n",
       "32  Passenger Journeys by Rail (Thousand)  2023     Dublin suburban services   \n",
       "33  Passenger Journeys by Rail (Thousand)  2023                         DART   \n",
       "34  Passenger Journeys by Rail (Thousand)  2023       International journeys   \n",
       "\n",
       "      UNIT  VALUE  \n",
       "0   Number  45505  \n",
       "1   Number  11557  \n",
       "2   Number  12696  \n",
       "3   Number  20077  \n",
       "4   Number   1175  \n",
       "5   Number  47960  \n",
       "6   Number  12438  \n",
       "7   Number  13299  \n",
       "8   Number  20934  \n",
       "9   Number   1290  \n",
       "10  Number  50060  \n",
       "11  Number  13179  \n",
       "12  Number  13997  \n",
       "13  Number  21560  \n",
       "14  Number   1324  \n",
       "15  Number  17930  \n",
       "16  Number   4667  \n",
       "17  Number   4772  \n",
       "18  Number   8044  \n",
       "19  Number    448  \n",
       "20  Number  17411  \n",
       "21  Number   5044  \n",
       "22  Number   3989  \n",
       "23  Number   7845  \n",
       "24  Number    533  \n",
       "25  Number  35845  \n",
       "26  Number  10338  \n",
       "27  Number   8740  \n",
       "28  Number  15930  \n",
       "29  Number    836  \n",
       "30  Number  46066  \n",
       "31  Number  13210  \n",
       "32  Number  11562  \n",
       "33  Number  19944  \n",
       "34  Number   1350  >"
      ]
     },
     "execution_count": 27,
     "metadata": {},
     "output_type": "execute_result"
    }
   ],
   "source": [
    "df.mean \n",
    "# In order to compute the mean (average) of the values in each column"
   ]
  },
  {
   "cell_type": "code",
   "execution_count": 38,
   "id": "9fdb74e9-7d41-4f1f-8248-cb1f7aa6d934",
   "metadata": {},
   "outputs": [
    {
     "data": {
      "text/html": [
       "<div>\n",
       "<style scoped>\n",
       "    .dataframe tbody tr th:only-of-type {\n",
       "        vertical-align: middle;\n",
       "    }\n",
       "\n",
       "    .dataframe tbody tr th {\n",
       "        vertical-align: top;\n",
       "    }\n",
       "\n",
       "    .dataframe thead th {\n",
       "        text-align: right;\n",
       "    }\n",
       "</style>\n",
       "<table border=\"1\" class=\"dataframe\">\n",
       "  <thead>\n",
       "    <tr style=\"text-align: right;\">\n",
       "      <th></th>\n",
       "      <th>Year</th>\n",
       "      <th>VALUE</th>\n",
       "    </tr>\n",
       "  </thead>\n",
       "  <tbody>\n",
       "    <tr>\n",
       "      <th>count</th>\n",
       "      <td>35.000000</td>\n",
       "      <td>35.000000</td>\n",
       "    </tr>\n",
       "    <tr>\n",
       "      <th>mean</th>\n",
       "      <td>2020.000000</td>\n",
       "      <td>14901.571429</td>\n",
       "    </tr>\n",
       "    <tr>\n",
       "      <th>std</th>\n",
       "      <td>2.029199</td>\n",
       "      <td>14143.651445</td>\n",
       "    </tr>\n",
       "    <tr>\n",
       "      <th>min</th>\n",
       "      <td>2017.000000</td>\n",
       "      <td>448.000000</td>\n",
       "    </tr>\n",
       "    <tr>\n",
       "      <th>25%</th>\n",
       "      <td>2018.000000</td>\n",
       "      <td>4719.500000</td>\n",
       "    </tr>\n",
       "    <tr>\n",
       "      <th>50%</th>\n",
       "      <td>2020.000000</td>\n",
       "      <td>12438.000000</td>\n",
       "    </tr>\n",
       "    <tr>\n",
       "      <th>75%</th>\n",
       "      <td>2022.000000</td>\n",
       "      <td>18937.000000</td>\n",
       "    </tr>\n",
       "    <tr>\n",
       "      <th>max</th>\n",
       "      <td>2023.000000</td>\n",
       "      <td>50060.000000</td>\n",
       "    </tr>\n",
       "  </tbody>\n",
       "</table>\n",
       "</div>"
      ],
      "text/plain": [
       "              Year         VALUE\n",
       "count    35.000000     35.000000\n",
       "mean   2020.000000  14901.571429\n",
       "std       2.029199  14143.651445\n",
       "min    2017.000000    448.000000\n",
       "25%    2018.000000   4719.500000\n",
       "50%    2020.000000  12438.000000\n",
       "75%    2022.000000  18937.000000\n",
       "max    2023.000000  50060.000000"
      ]
     },
     "execution_count": 38,
     "metadata": {},
     "output_type": "execute_result"
    }
   ],
   "source": [
    "df.describe() \n",
    "\n",
    "#This will gives:\n",
    "\n",
    "#The count of Passenger journeys by Rail.\n",
    "#The mean, standard deviation, min, 25th percentile, median (50%), 75th percentile, and max amount of passengers."
   ]
  },
  {
   "cell_type": "code",
   "execution_count": null,
   "id": "5c273402-b5d4-4d8d-a00b-c3e420cd74ed",
   "metadata": {},
   "outputs": [],
   "source": []
  }
 ],
 "metadata": {
  "kernelspec": {
   "display_name": "Python 3 (ipykernel)",
   "language": "python",
   "name": "python3"
  },
  "language_info": {
   "codemirror_mode": {
    "name": "ipython",
    "version": 3
   },
   "file_extension": ".py",
   "mimetype": "text/x-python",
   "name": "python",
   "nbconvert_exporter": "python",
   "pygments_lexer": "ipython3",
   "version": "3.12.4"
  }
 },
 "nbformat": 4,
 "nbformat_minor": 5
}
